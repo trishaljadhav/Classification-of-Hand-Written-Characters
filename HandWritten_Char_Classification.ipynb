{
 "cells": [
  {
   "cell_type": "markdown",
   "id": "b9616c02",
   "metadata": {},
   "source": [
    "# Image Classification of Hand-Written Characters\n",
    "Growing up, most of my teachers in school had a single recurrent issue with me. It wasn't bad behavior or poor grades but it was always that my handwriting was not legible. This led to quite a few ordeals at home as my mom would constantly have me practice so I can improve my handwriting, but as time went on it only got worse. Today with advances in technology such as neural networks, I feel that recognizing hand-written characters should be a thing of the the past.\n",
    "\n",
    "Through this project I will be trying to understand the working of Neural Networks and decipher my own hand-written characters using a model trained on the extended version of the MNIST dataset with numbers, lowercase and uppercase letters. We will be creating a Neural Network Class from scratch to classify images of 1s and 0s and also use Keras with Tensorflow as backend to build ANN and CNN models, compare their performance on the full dataset and implement the most accurate one on some images of my own handwriting."
   ]
  },
  {
   "cell_type": "markdown",
   "id": "c2b92cb3",
   "metadata": {},
   "source": [
    "## Contents\n",
    "1. Data Exploration and Pre-Processing\n",
    "2. Creating ANN from scratch\n",
    "2. Artificial Neural Network Approach\n",
    "3. Convolutional Neural Network Approach\n",
    "4. Deployment of Final Model and Conclusion"
   ]
  },
  {
   "cell_type": "markdown",
   "id": "f46c7f65",
   "metadata": {},
   "source": [
    "### 1. Data Exploration and Pre-Processing\n",
    "The dataset we will be using in this project is the Extended MNIST (EMINST) dataset which contains sample images of hand-written numbers, lowercase and uppercase letters which I obtained from Kaggle. All the classes in this datset are balanced and the images are of white characters on black backgrounds."
   ]
  },
  {
   "cell_type": "code",
   "execution_count": 1,
   "id": "8e42e87f",
   "metadata": {},
   "outputs": [],
   "source": [
    "# Loading Required Libraries\n",
    "import pandas as pd\n",
    "import numpy as np\n",
    "import matplotlib.pyplot as plt\n",
    "import seaborn as sns\n",
    "import tensorflow as tf"
   ]
  },
  {
   "cell_type": "code",
   "execution_count": 2,
   "id": "df9de5f0",
   "metadata": {},
   "outputs": [
    {
     "name": "stdout",
     "output_type": "stream",
     "text": [
      "Training Dataset Shape:  (112800, 785)\n",
      "Testing Dataset Shape:  (18800, 785)\n"
     ]
    },
    {
     "data": {
      "text/html": [
       "<div>\n",
       "<style scoped>\n",
       "    .dataframe tbody tr th:only-of-type {\n",
       "        vertical-align: middle;\n",
       "    }\n",
       "\n",
       "    .dataframe tbody tr th {\n",
       "        vertical-align: top;\n",
       "    }\n",
       "\n",
       "    .dataframe thead th {\n",
       "        text-align: right;\n",
       "    }\n",
       "</style>\n",
       "<table border=\"1\" class=\"dataframe\">\n",
       "  <thead>\n",
       "    <tr style=\"text-align: right;\">\n",
       "      <th></th>\n",
       "      <th>0</th>\n",
       "      <th>1</th>\n",
       "      <th>2</th>\n",
       "      <th>3</th>\n",
       "      <th>4</th>\n",
       "      <th>5</th>\n",
       "      <th>6</th>\n",
       "      <th>7</th>\n",
       "      <th>8</th>\n",
       "      <th>9</th>\n",
       "      <th>...</th>\n",
       "      <th>775</th>\n",
       "      <th>776</th>\n",
       "      <th>777</th>\n",
       "      <th>778</th>\n",
       "      <th>779</th>\n",
       "      <th>780</th>\n",
       "      <th>781</th>\n",
       "      <th>782</th>\n",
       "      <th>783</th>\n",
       "      <th>784</th>\n",
       "    </tr>\n",
       "  </thead>\n",
       "  <tbody>\n",
       "    <tr>\n",
       "      <th>0</th>\n",
       "      <td>45</td>\n",
       "      <td>0</td>\n",
       "      <td>0</td>\n",
       "      <td>0</td>\n",
       "      <td>0</td>\n",
       "      <td>0</td>\n",
       "      <td>0</td>\n",
       "      <td>0</td>\n",
       "      <td>0</td>\n",
       "      <td>0</td>\n",
       "      <td>...</td>\n",
       "      <td>0</td>\n",
       "      <td>0</td>\n",
       "      <td>0</td>\n",
       "      <td>0</td>\n",
       "      <td>0</td>\n",
       "      <td>0</td>\n",
       "      <td>0</td>\n",
       "      <td>0</td>\n",
       "      <td>0</td>\n",
       "      <td>0</td>\n",
       "    </tr>\n",
       "    <tr>\n",
       "      <th>1</th>\n",
       "      <td>36</td>\n",
       "      <td>0</td>\n",
       "      <td>0</td>\n",
       "      <td>0</td>\n",
       "      <td>0</td>\n",
       "      <td>0</td>\n",
       "      <td>0</td>\n",
       "      <td>0</td>\n",
       "      <td>0</td>\n",
       "      <td>0</td>\n",
       "      <td>...</td>\n",
       "      <td>0</td>\n",
       "      <td>0</td>\n",
       "      <td>0</td>\n",
       "      <td>0</td>\n",
       "      <td>0</td>\n",
       "      <td>0</td>\n",
       "      <td>0</td>\n",
       "      <td>0</td>\n",
       "      <td>0</td>\n",
       "      <td>0</td>\n",
       "    </tr>\n",
       "    <tr>\n",
       "      <th>2</th>\n",
       "      <td>43</td>\n",
       "      <td>0</td>\n",
       "      <td>0</td>\n",
       "      <td>0</td>\n",
       "      <td>0</td>\n",
       "      <td>0</td>\n",
       "      <td>0</td>\n",
       "      <td>0</td>\n",
       "      <td>0</td>\n",
       "      <td>0</td>\n",
       "      <td>...</td>\n",
       "      <td>0</td>\n",
       "      <td>0</td>\n",
       "      <td>0</td>\n",
       "      <td>0</td>\n",
       "      <td>0</td>\n",
       "      <td>0</td>\n",
       "      <td>0</td>\n",
       "      <td>0</td>\n",
       "      <td>0</td>\n",
       "      <td>0</td>\n",
       "    </tr>\n",
       "    <tr>\n",
       "      <th>3</th>\n",
       "      <td>15</td>\n",
       "      <td>0</td>\n",
       "      <td>0</td>\n",
       "      <td>0</td>\n",
       "      <td>0</td>\n",
       "      <td>0</td>\n",
       "      <td>0</td>\n",
       "      <td>0</td>\n",
       "      <td>0</td>\n",
       "      <td>0</td>\n",
       "      <td>...</td>\n",
       "      <td>0</td>\n",
       "      <td>0</td>\n",
       "      <td>0</td>\n",
       "      <td>0</td>\n",
       "      <td>0</td>\n",
       "      <td>0</td>\n",
       "      <td>0</td>\n",
       "      <td>0</td>\n",
       "      <td>0</td>\n",
       "      <td>0</td>\n",
       "    </tr>\n",
       "    <tr>\n",
       "      <th>4</th>\n",
       "      <td>4</td>\n",
       "      <td>0</td>\n",
       "      <td>0</td>\n",
       "      <td>0</td>\n",
       "      <td>0</td>\n",
       "      <td>0</td>\n",
       "      <td>0</td>\n",
       "      <td>0</td>\n",
       "      <td>0</td>\n",
       "      <td>0</td>\n",
       "      <td>...</td>\n",
       "      <td>0</td>\n",
       "      <td>0</td>\n",
       "      <td>0</td>\n",
       "      <td>0</td>\n",
       "      <td>0</td>\n",
       "      <td>0</td>\n",
       "      <td>0</td>\n",
       "      <td>0</td>\n",
       "      <td>0</td>\n",
       "      <td>0</td>\n",
       "    </tr>\n",
       "  </tbody>\n",
       "</table>\n",
       "<p>5 rows × 785 columns</p>\n",
       "</div>"
      ],
      "text/plain": [
       "   0    1    2    3    4    5    6    7    8    9    ...  775  776  777  778  \\\n",
       "0   45    0    0    0    0    0    0    0    0    0  ...    0    0    0    0   \n",
       "1   36    0    0    0    0    0    0    0    0    0  ...    0    0    0    0   \n",
       "2   43    0    0    0    0    0    0    0    0    0  ...    0    0    0    0   \n",
       "3   15    0    0    0    0    0    0    0    0    0  ...    0    0    0    0   \n",
       "4    4    0    0    0    0    0    0    0    0    0  ...    0    0    0    0   \n",
       "\n",
       "   779  780  781  782  783  784  \n",
       "0    0    0    0    0    0    0  \n",
       "1    0    0    0    0    0    0  \n",
       "2    0    0    0    0    0    0  \n",
       "3    0    0    0    0    0    0  \n",
       "4    0    0    0    0    0    0  \n",
       "\n",
       "[5 rows x 785 columns]"
      ]
     },
     "execution_count": 2,
     "metadata": {},
     "output_type": "execute_result"
    }
   ],
   "source": [
    "# Loading Train and Test Dataset\n",
    "df_train = pd.read_csv(\"emnist-balanced-train.csv\",header=None)\n",
    "df_test = pd.read_csv(\"emnist-balanced-test.csv\",header=None)\n",
    "print('Training Dataset Shape: ',df_train.shape)\n",
    "print('Testing Dataset Shape: ',df_test.shape)\n",
    "df_train.head()"
   ]
  },
  {
   "cell_type": "markdown",
   "id": "81a7248a",
   "metadata": {},
   "source": [
    "As we can see, each row in this dataset represents a single 28x28 pixel image with the first column giving us the label and the next 784 columns giving us the pixel values."
   ]
  },
  {
   "cell_type": "code",
   "execution_count": 3,
   "id": "e4315444",
   "metadata": {},
   "outputs": [],
   "source": [
    "# Splitting Features(X) and Labels(y)\n",
    "X_train = df_train.loc[:,1:]\n",
    "y_train = df_train.loc[:,0]\n",
    "X_test = df_test.loc[:,1:]\n",
    "y_test = df_test.loc[:,0]"
   ]
  },
  {
   "cell_type": "markdown",
   "id": "dff14246",
   "metadata": {},
   "source": [
    "Using the EMINST mapping file, we will be creating a dictionary that maps each label in the datset to the corresponding UTF value."
   ]
  },
  {
   "cell_type": "code",
   "execution_count": 4,
   "id": "ceab31ac",
   "metadata": {},
   "outputs": [
    {
     "data": {
      "text/html": [
       "<div>\n",
       "<style scoped>\n",
       "    .dataframe tbody tr th:only-of-type {\n",
       "        vertical-align: middle;\n",
       "    }\n",
       "\n",
       "    .dataframe tbody tr th {\n",
       "        vertical-align: top;\n",
       "    }\n",
       "\n",
       "    .dataframe thead th {\n",
       "        text-align: right;\n",
       "    }\n",
       "</style>\n",
       "<table border=\"1\" class=\"dataframe\">\n",
       "  <thead>\n",
       "    <tr style=\"text-align: right;\">\n",
       "      <th></th>\n",
       "      <th>index</th>\n",
       "      <th>label</th>\n",
       "    </tr>\n",
       "  </thead>\n",
       "  <tbody>\n",
       "    <tr>\n",
       "      <th>0</th>\n",
       "      <td>0</td>\n",
       "      <td>0</td>\n",
       "    </tr>\n",
       "    <tr>\n",
       "      <th>1</th>\n",
       "      <td>1</td>\n",
       "      <td>1</td>\n",
       "    </tr>\n",
       "    <tr>\n",
       "      <th>2</th>\n",
       "      <td>2</td>\n",
       "      <td>2</td>\n",
       "    </tr>\n",
       "    <tr>\n",
       "      <th>3</th>\n",
       "      <td>3</td>\n",
       "      <td>3</td>\n",
       "    </tr>\n",
       "    <tr>\n",
       "      <th>4</th>\n",
       "      <td>4</td>\n",
       "      <td>4</td>\n",
       "    </tr>\n",
       "    <tr>\n",
       "      <th>5</th>\n",
       "      <td>5</td>\n",
       "      <td>5</td>\n",
       "    </tr>\n",
       "    <tr>\n",
       "      <th>6</th>\n",
       "      <td>6</td>\n",
       "      <td>6</td>\n",
       "    </tr>\n",
       "    <tr>\n",
       "      <th>7</th>\n",
       "      <td>7</td>\n",
       "      <td>7</td>\n",
       "    </tr>\n",
       "    <tr>\n",
       "      <th>8</th>\n",
       "      <td>8</td>\n",
       "      <td>8</td>\n",
       "    </tr>\n",
       "    <tr>\n",
       "      <th>9</th>\n",
       "      <td>9</td>\n",
       "      <td>9</td>\n",
       "    </tr>\n",
       "    <tr>\n",
       "      <th>10</th>\n",
       "      <td>10</td>\n",
       "      <td>A</td>\n",
       "    </tr>\n",
       "    <tr>\n",
       "      <th>11</th>\n",
       "      <td>11</td>\n",
       "      <td>B</td>\n",
       "    </tr>\n",
       "    <tr>\n",
       "      <th>12</th>\n",
       "      <td>12</td>\n",
       "      <td>C</td>\n",
       "    </tr>\n",
       "    <tr>\n",
       "      <th>13</th>\n",
       "      <td>13</td>\n",
       "      <td>D</td>\n",
       "    </tr>\n",
       "    <tr>\n",
       "      <th>14</th>\n",
       "      <td>14</td>\n",
       "      <td>E</td>\n",
       "    </tr>\n",
       "    <tr>\n",
       "      <th>15</th>\n",
       "      <td>15</td>\n",
       "      <td>F</td>\n",
       "    </tr>\n",
       "    <tr>\n",
       "      <th>16</th>\n",
       "      <td>16</td>\n",
       "      <td>G</td>\n",
       "    </tr>\n",
       "    <tr>\n",
       "      <th>17</th>\n",
       "      <td>17</td>\n",
       "      <td>H</td>\n",
       "    </tr>\n",
       "    <tr>\n",
       "      <th>18</th>\n",
       "      <td>18</td>\n",
       "      <td>I</td>\n",
       "    </tr>\n",
       "    <tr>\n",
       "      <th>19</th>\n",
       "      <td>19</td>\n",
       "      <td>J</td>\n",
       "    </tr>\n",
       "    <tr>\n",
       "      <th>20</th>\n",
       "      <td>20</td>\n",
       "      <td>K</td>\n",
       "    </tr>\n",
       "    <tr>\n",
       "      <th>21</th>\n",
       "      <td>21</td>\n",
       "      <td>L</td>\n",
       "    </tr>\n",
       "    <tr>\n",
       "      <th>22</th>\n",
       "      <td>22</td>\n",
       "      <td>M</td>\n",
       "    </tr>\n",
       "    <tr>\n",
       "      <th>23</th>\n",
       "      <td>23</td>\n",
       "      <td>N</td>\n",
       "    </tr>\n",
       "    <tr>\n",
       "      <th>24</th>\n",
       "      <td>24</td>\n",
       "      <td>O</td>\n",
       "    </tr>\n",
       "    <tr>\n",
       "      <th>25</th>\n",
       "      <td>25</td>\n",
       "      <td>P</td>\n",
       "    </tr>\n",
       "    <tr>\n",
       "      <th>26</th>\n",
       "      <td>26</td>\n",
       "      <td>Q</td>\n",
       "    </tr>\n",
       "    <tr>\n",
       "      <th>27</th>\n",
       "      <td>27</td>\n",
       "      <td>R</td>\n",
       "    </tr>\n",
       "    <tr>\n",
       "      <th>28</th>\n",
       "      <td>28</td>\n",
       "      <td>S</td>\n",
       "    </tr>\n",
       "    <tr>\n",
       "      <th>29</th>\n",
       "      <td>29</td>\n",
       "      <td>T</td>\n",
       "    </tr>\n",
       "    <tr>\n",
       "      <th>30</th>\n",
       "      <td>30</td>\n",
       "      <td>U</td>\n",
       "    </tr>\n",
       "    <tr>\n",
       "      <th>31</th>\n",
       "      <td>31</td>\n",
       "      <td>V</td>\n",
       "    </tr>\n",
       "    <tr>\n",
       "      <th>32</th>\n",
       "      <td>32</td>\n",
       "      <td>W</td>\n",
       "    </tr>\n",
       "    <tr>\n",
       "      <th>33</th>\n",
       "      <td>33</td>\n",
       "      <td>X</td>\n",
       "    </tr>\n",
       "    <tr>\n",
       "      <th>34</th>\n",
       "      <td>34</td>\n",
       "      <td>Y</td>\n",
       "    </tr>\n",
       "    <tr>\n",
       "      <th>35</th>\n",
       "      <td>35</td>\n",
       "      <td>Z</td>\n",
       "    </tr>\n",
       "    <tr>\n",
       "      <th>36</th>\n",
       "      <td>36</td>\n",
       "      <td>a</td>\n",
       "    </tr>\n",
       "    <tr>\n",
       "      <th>37</th>\n",
       "      <td>37</td>\n",
       "      <td>b</td>\n",
       "    </tr>\n",
       "    <tr>\n",
       "      <th>38</th>\n",
       "      <td>38</td>\n",
       "      <td>d</td>\n",
       "    </tr>\n",
       "    <tr>\n",
       "      <th>39</th>\n",
       "      <td>39</td>\n",
       "      <td>e</td>\n",
       "    </tr>\n",
       "    <tr>\n",
       "      <th>40</th>\n",
       "      <td>40</td>\n",
       "      <td>f</td>\n",
       "    </tr>\n",
       "    <tr>\n",
       "      <th>41</th>\n",
       "      <td>41</td>\n",
       "      <td>g</td>\n",
       "    </tr>\n",
       "    <tr>\n",
       "      <th>42</th>\n",
       "      <td>42</td>\n",
       "      <td>h</td>\n",
       "    </tr>\n",
       "    <tr>\n",
       "      <th>43</th>\n",
       "      <td>43</td>\n",
       "      <td>n</td>\n",
       "    </tr>\n",
       "    <tr>\n",
       "      <th>44</th>\n",
       "      <td>44</td>\n",
       "      <td>q</td>\n",
       "    </tr>\n",
       "    <tr>\n",
       "      <th>45</th>\n",
       "      <td>45</td>\n",
       "      <td>r</td>\n",
       "    </tr>\n",
       "    <tr>\n",
       "      <th>46</th>\n",
       "      <td>46</td>\n",
       "      <td>t</td>\n",
       "    </tr>\n",
       "  </tbody>\n",
       "</table>\n",
       "</div>"
      ],
      "text/plain": [
       "    index label\n",
       "0       0     0\n",
       "1       1     1\n",
       "2       2     2\n",
       "3       3     3\n",
       "4       4     4\n",
       "5       5     5\n",
       "6       6     6\n",
       "7       7     7\n",
       "8       8     8\n",
       "9       9     9\n",
       "10     10     A\n",
       "11     11     B\n",
       "12     12     C\n",
       "13     13     D\n",
       "14     14     E\n",
       "15     15     F\n",
       "16     16     G\n",
       "17     17     H\n",
       "18     18     I\n",
       "19     19     J\n",
       "20     20     K\n",
       "21     21     L\n",
       "22     22     M\n",
       "23     23     N\n",
       "24     24     O\n",
       "25     25     P\n",
       "26     26     Q\n",
       "27     27     R\n",
       "28     28     S\n",
       "29     29     T\n",
       "30     30     U\n",
       "31     31     V\n",
       "32     32     W\n",
       "33     33     X\n",
       "34     34     Y\n",
       "35     35     Z\n",
       "36     36     a\n",
       "37     37     b\n",
       "38     38     d\n",
       "39     39     e\n",
       "40     40     f\n",
       "41     41     g\n",
       "42     42     h\n",
       "43     43     n\n",
       "44     44     q\n",
       "45     45     r\n",
       "46     46     t"
      ]
     },
     "execution_count": 4,
     "metadata": {},
     "output_type": "execute_result"
    }
   ],
   "source": [
    "# Creating Mapping Datframe\n",
    "map_df = pd.DataFrame({(0 , 48),(1 , 49),(2 , 50),(3 , 51),(4 , 52),(5 , 53),(6 , 54),(7 , 55),(8 , 56),(9 , 57),\n",
    "(10 , 65),(11 , 66),(12 , 67),(13 , 68),(14 , 69),(15 , 70),(16 , 71),(17 , 72),(18 , 73),(19 , 74),(20 , 75),\n",
    "(21 , 76),(22 , 77),(23 , 78),(24 , 79),(25 , 80),(26 , 81),(27 , 82),(28 , 83),(29 , 84),(30 , 85),(31 , 86),\n",
    "(32 , 87),(33 , 88),(34 , 89),(35 , 90),(36 , 97),(37 , 98),(38 , 100),(39 , 101),(40 , 102),(41 , 103),(42 , 104),\n",
    "(43 , 110),(44 , 113),(45 , 114),(46 , 116)},columns=['index','number'])\n",
    "map_df['label'] = map_df['number'].apply(lambda x:chr(x))\n",
    "map_df = map_df.sort_values('index')\n",
    "map_df.reset_index(inplace=True)\n",
    "map_df = map_df[['index','label']]\n",
    "map_df"
   ]
  },
  {
   "cell_type": "code",
   "execution_count": 5,
   "id": "0142ec97",
   "metadata": {},
   "outputs": [
    {
     "name": "stdout",
     "output_type": "stream",
     "text": [
      "{0: '0', 1: '1', 2: '2', 3: '3', 4: '4', 5: '5', 6: '6', 7: '7', 8: '8', 9: '9', 10: 'A', 11: 'B', 12: 'C', 13: 'D', 14: 'E', 15: 'F', 16: 'G', 17: 'H', 18: 'I', 19: 'J', 20: 'K', 21: 'L', 22: 'M', 23: 'N', 24: 'O', 25: 'P', 26: 'Q', 27: 'R', 28: 'S', 29: 'T', 30: 'U', 31: 'V', 32: 'W', 33: 'X', 34: 'Y', 35: 'Z', 36: 'a', 37: 'b', 38: 'd', 39: 'e', 40: 'f', 41: 'g', 42: 'h', 43: 'n', 44: 'q', 45: 'r', 46: 't'}\n"
     ]
    }
   ],
   "source": [
    "label_mapping = dict(map_df.values)\n",
    "print(label_mapping)"
   ]
  },
  {
   "cell_type": "markdown",
   "id": "e6fd8d3c",
   "metadata": {},
   "source": [
    "In the next code cell we will be convering the label values into 46 binary categorical columns, one for each category using One-Hot Encoding."
   ]
  },
  {
   "cell_type": "code",
   "execution_count": 6,
   "id": "b99ce7d8",
   "metadata": {},
   "outputs": [],
   "source": [
    "# One Hot Encoding of Labels\n",
    "from tensorflow.keras.utils import to_categorical\n",
    "\n",
    "y_train = to_categorical(y_train)\n",
    "y_test = to_categorical(y_test)"
   ]
  },
  {
   "cell_type": "code",
   "execution_count": 7,
   "id": "abd5d52f",
   "metadata": {},
   "outputs": [
    {
     "name": "stdout",
     "output_type": "stream",
     "text": [
      "X_train Shape:  (112800, 784) <class 'pandas.core.frame.DataFrame'>\n",
      "X_test Shape:  (18800, 784) <class 'pandas.core.frame.DataFrame'>\n",
      "y_train Shape:  (112800, 47) <class 'numpy.ndarray'>\n",
      "y_test Shape:  (18800, 47) <class 'numpy.ndarray'>\n"
     ]
    }
   ],
   "source": [
    "print('X_train Shape: ',X_train.shape,type(X_train))\n",
    "print('X_test Shape: ',X_test.shape,type(X_test))\n",
    "print('y_train Shape: ',y_train.shape,type(y_train))\n",
    "print('y_test Shape: ',y_test.shape,type(y_test))"
   ]
  },
  {
   "cell_type": "code",
   "execution_count": 8,
   "id": "e912dc1a",
   "metadata": {},
   "outputs": [
    {
     "data": {
      "image/png": "[encoded data removed]",
      "text/plain": [
       "<Figure size 720x360 with 10 Axes>"
      ]
     },
     "metadata": {},
     "output_type": "display_data"
    }
   ],
   "source": [
    "# Visualizing Some Training Samples\n",
    "indices = np.random.choice(range(X_train.shape[0]), 10, replace=False)\n",
    "    \n",
    "X_show = X_train.iloc[indices]\n",
    "y_show = y_train[indices]\n",
    "    \n",
    "plt.figure(figsize=(10, 5))\n",
    "for i in range(10):\n",
    "    plt.subplot(2, 5, i + 1)\n",
    "    plt.imshow(X_show.iloc[i].values.reshape(28,28),cmap='binary')\n",
    "    plt.xticks([])\n",
    "    plt.yticks([])\n",
    "    col = 'green'\n",
    "    plt.xlabel(label_mapping[np.argmax(y_show[i])], color=col)\n",
    "plt.show()"
   ]
  },
  {
   "cell_type": "markdown",
   "id": "31a7a03f",
   "metadata": {},
   "source": [
    "We can see on visualizing some random image sample that the images in the datset seem to be flipped and rotated. To aid in our understanding, we will flip and rotate all images in the training and test datset into readable versions."
   ]
  },
  {
   "cell_type": "code",
   "execution_count": 9,
   "id": "5894329b",
   "metadata": {},
   "outputs": [],
   "source": [
    "# Rotating and Flipping all Images\n",
    "def rotate_invert(pic):\n",
    "    pic = pic.reshape(28,28)\n",
    "    pic = np.fliplr(pic)\n",
    "    pic = np.rot90(pic)\n",
    "    return pic\n",
    "\n",
    "X_train = np.apply_along_axis(rotate_invert, 1, X_train.values)\n",
    "X_test = np.apply_along_axis(rotate_invert, 1, X_test.values)"
   ]
  },
  {
   "cell_type": "code",
   "execution_count": 10,
   "id": "ad878b4c",
   "metadata": {},
   "outputs": [
    {
     "name": "stdout",
     "output_type": "stream",
     "text": [
      "X_train Shape:  (112800, 28, 28) <class 'numpy.ndarray'>\n",
      "X_test Shape:  (18800, 28, 28) <class 'numpy.ndarray'>\n"
     ]
    }
   ],
   "source": [
    "print('X_train Shape: ',X_train.shape,type(X_train))\n",
    "print('X_test Shape: ',X_test.shape,type(X_test))"
   ]
  },
  {
   "cell_type": "markdown",
   "id": "bf8c6e9e",
   "metadata": {},
   "source": [
    "On taking a closer look, we see that both our training and test datasets have been converted to numpy arrays and the individual images have 28x28 dimensions. We can now define a function to visualize random examples using numpy arrays as an input to prevent repeating lines of code. The function can also be equipped to take predicted values as input and display the predicted label with the image in green if it was correctly predicted and red if it was wrongly predicted."
   ]
  },
  {
   "cell_type": "code",
   "execution_count": 11,
   "id": "8252b59e",
   "metadata": {},
   "outputs": [
    {
     "data": {
      "image/png": "[encoded data removed]",
      "text/plain": [
       "<Figure size 720x360 with 10 Axes>"
      ]
     },
     "metadata": {},
     "output_type": "display_data"
    }
   ],
   "source": [
    "# Visualizing Rotated and Flipped Samples\n",
    "def show_random_examples(X, y, p):\n",
    "    indices = np.random.choice(range(X.shape[0]), 10, replace=False)\n",
    "    \n",
    "    X = X[indices]\n",
    "    y = y[indices]\n",
    "    p = p[indices]\n",
    "    \n",
    "    plt.figure(figsize=(10, 5))\n",
    "    for i in range(10):\n",
    "        plt.subplot(2, 5, i + 1)\n",
    "        plt.imshow(X[i],cmap='binary')\n",
    "        plt.xticks([])\n",
    "        plt.yticks([])\n",
    "        col = 'green' if np.argmax(y[i]) == np.argmax(p[i]) else 'red'\n",
    "        plt.xlabel(label_mapping[np.argmax(p[i])], color=col)\n",
    "    plt.show()\n",
    "\n",
    "show_random_examples(X_train, y_train, y_train)"
   ]
  },
  {
   "cell_type": "code",
   "execution_count": 12,
   "id": "89f65c41",
   "metadata": {},
   "outputs": [
    {
     "name": "stdout",
     "output_type": "stream",
     "text": [
      "[  0   1   2   3   4   5   6   7   8   9  10  11  12  13  14  15  16  17\n",
      "  18  19  20  21  22  23  24  25  26  27  28  29  30  31  32  33  34  35\n",
      "  36  37  38  39  40  41  42  43  44  45  46  47  48  49  50  51  52  53\n",
      "  54  55  56  57  58  59  60  61  62  63  64  65  66  67  68  69  70  71\n",
      "  72  73  74  75  76  77  78  79  80  81  82  83  84  85  86  87  88  89\n",
      "  90  91  92  93  94  95  96  97  98  99 100 101 102 103 104 105 106 107\n",
      " 108 109 110 111 112 113 114 115 116 117 118 119 120 121 122 123 124 125\n",
      " 126 127 128 129 130 131 132 133 134 135 136 137 138 139 140 141 142 143\n",
      " 144 145 146 147 148 149 150 151 152 153 154 155 156 157 158 159 160 161\n",
      " 162 163 164 165 166 167 168 169 170 171 172 173 174 175 176 177 178 179\n",
      " 180 181 182 183 184 185 186 187 188 189 190 191 192 193 194 195 196 197\n",
      " 198 199 200 201 202 203 204 205 206 207 208 209 210 211 212 213 214 215\n",
      " 216 217 218 219 220 221 222 223 224 225 226 227 228 229 230 231 232 233\n",
      " 234 235 236 237 238 239 240 241 242 243 244 245 246 247 248 249 250 251\n",
      " 252 253 254 255]\n"
     ]
    }
   ],
   "source": [
    "# Looking at unique Pixel values of our images\n",
    "print(np.unique(X_train))"
   ]
  },
  {
   "cell_type": "markdown",
   "id": "e36a46a9",
   "metadata": {},
   "source": [
    "Taking a look at the pixel values, we can see that they range from 0 to 255. We can normailize these values to a 0 to 1 range by dividing all values in the training and test datasets by 255."
   ]
  },
  {
   "cell_type": "code",
   "execution_count": 13,
   "id": "44b421f0",
   "metadata": {},
   "outputs": [],
   "source": [
    "# Normalizing Pixel Values\n",
    "X_train = X_train/255.\n",
    "X_test = X_test/255."
   ]
  },
  {
   "cell_type": "code",
   "execution_count": 14,
   "id": "2fc54066",
   "metadata": {},
   "outputs": [
    {
     "name": "stdout",
     "output_type": "stream",
     "text": [
      "[0.         0.00392157 0.00784314 0.01176471 0.01568627 0.01960784\n",
      " 0.02352941 0.02745098 0.03137255 0.03529412 0.03921569 0.04313725\n",
      " 0.04705882 0.05098039 0.05490196 0.05882353 0.0627451  0.06666667\n",
      " 0.07058824 0.0745098  0.07843137 0.08235294 0.08627451 0.09019608\n",
      " 0.09411765 0.09803922 0.10196078 0.10588235 0.10980392 0.11372549\n",
      " 0.11764706 0.12156863 0.1254902  0.12941176 0.13333333 0.1372549\n",
      " 0.14117647 0.14509804 0.14901961 0.15294118 0.15686275 0.16078431\n",
      " 0.16470588 0.16862745 0.17254902 0.17647059 0.18039216 0.18431373\n",
      " 0.18823529 0.19215686 0.19607843 0.2        0.20392157 0.20784314\n",
      " 0.21176471 0.21568627 0.21960784 0.22352941 0.22745098 0.23137255\n",
      " 0.23529412 0.23921569 0.24313725 0.24705882 0.25098039 0.25490196\n",
      " 0.25882353 0.2627451  0.26666667 0.27058824 0.2745098  0.27843137\n",
      " 0.28235294 0.28627451 0.29019608 0.29411765 0.29803922 0.30196078\n",
      " 0.30588235 0.30980392 0.31372549 0.31764706 0.32156863 0.3254902\n",
      " 0.32941176 0.33333333 0.3372549  0.34117647 0.34509804 0.34901961\n",
      " 0.35294118 0.35686275 0.36078431 0.36470588 0.36862745 0.37254902\n",
      " 0.37647059 0.38039216 0.38431373 0.38823529 0.39215686 0.39607843\n",
      " 0.4        0.40392157 0.40784314 0.41176471 0.41568627 0.41960784\n",
      " 0.42352941 0.42745098 0.43137255 0.43529412 0.43921569 0.44313725\n",
      " 0.44705882 0.45098039 0.45490196 0.45882353 0.4627451  0.46666667\n",
      " 0.47058824 0.4745098  0.47843137 0.48235294 0.48627451 0.49019608\n",
      " 0.49411765 0.49803922 0.50196078 0.50588235 0.50980392 0.51372549\n",
      " 0.51764706 0.52156863 0.5254902  0.52941176 0.53333333 0.5372549\n",
      " 0.54117647 0.54509804 0.54901961 0.55294118 0.55686275 0.56078431\n",
      " 0.56470588 0.56862745 0.57254902 0.57647059 0.58039216 0.58431373\n",
      " 0.58823529 0.59215686 0.59607843 0.6        0.60392157 0.60784314\n",
      " 0.61176471 0.61568627 0.61960784 0.62352941 0.62745098 0.63137255\n",
      " 0.63529412 0.63921569 0.64313725 0.64705882 0.65098039 0.65490196\n",
      " 0.65882353 0.6627451  0.66666667 0.67058824 0.6745098  0.67843137\n",
      " 0.68235294 0.68627451 0.69019608 0.69411765 0.69803922 0.70196078\n",
      " 0.70588235 0.70980392 0.71372549 0.71764706 0.72156863 0.7254902\n",
      " 0.72941176 0.73333333 0.7372549  0.74117647 0.74509804 0.74901961\n",
      " 0.75294118 0.75686275 0.76078431 0.76470588 0.76862745 0.77254902\n",
      " 0.77647059 0.78039216 0.78431373 0.78823529 0.79215686 0.79607843\n",
      " 0.8        0.80392157 0.80784314 0.81176471 0.81568627 0.81960784\n",
      " 0.82352941 0.82745098 0.83137255 0.83529412 0.83921569 0.84313725\n",
      " 0.84705882 0.85098039 0.85490196 0.85882353 0.8627451  0.86666667\n",
      " 0.87058824 0.8745098  0.87843137 0.88235294 0.88627451 0.89019608\n",
      " 0.89411765 0.89803922 0.90196078 0.90588235 0.90980392 0.91372549\n",
      " 0.91764706 0.92156863 0.9254902  0.92941176 0.93333333 0.9372549\n",
      " 0.94117647 0.94509804 0.94901961 0.95294118 0.95686275 0.96078431\n",
      " 0.96470588 0.96862745 0.97254902 0.97647059 0.98039216 0.98431373\n",
      " 0.98823529 0.99215686 0.99607843 1.        ]\n"
     ]
    }
   ],
   "source": [
    "print(np.unique(X_train))"
   ]
  },
  {
   "cell_type": "markdown",
   "id": "a483addc",
   "metadata": {},
   "source": [
    "### 2. Building ANN from scratch\n",
    "To better understand how ANNs work and to be able to implement them more efficiently, we will be attempting to write a Neral Network Class from scratch and use it to classify images of 1s and 0s from our dataset.\n",
    "The first step includes creating the class and defining initialization function where the class is created and obtains its parameters as inputs from the user.\n",
    "\n",
    "We will also be defining a function to initialize weights and biases for the ANN. Since we will be using 1 input layer and 2 hidden layers connected to the output, we will be initializing 3 sets of weights and biases."
   ]
  },
  {
   "cell_type": "code",
   "execution_count": 15,
   "id": "7ade3a84",
   "metadata": {},
   "outputs": [],
   "source": [
    "# Creating ANN Class and initializing weights and biases\n",
    "\n",
    "class myNeuralNet:\n",
    "    \n",
    "    def __init__(self, layers = [47,128,128,1], learning_rate = 0.01, iterations = 100):\n",
    "        self.layers = layers\n",
    "        self.learning_rate = learning_rate\n",
    "        self.iterations = iterations\n",
    "        self.param = {}\n",
    "        self.loss = []\n",
    "        self.X = None\n",
    "        self.y = None\n",
    "        \n",
    "    def init_weights(self):\n",
    "        np.random.seed(1)\n",
    "        self.param['w1'] = np.random.randn(self.layers[0], self.layers[1])\n",
    "        self.param['b1'] = np.random.randn(self.layers[1],)\n",
    "        self.param['w2'] = np.random.randn(self.layers[1], self.layers[2])\n",
    "        self.param['b2'] = np.random.randn(self.layers[2],)\n",
    "        self.param['w3'] = np.random.randn(self.layers[2], self.layers[3])\n",
    "        self.param['b3'] = np.random.randn(self.layers[3],)"
   ]
  },
  {
   "cell_type": "markdown",
   "id": "41808325",
   "metadata": {},
   "source": [
    "We will be using activation functions relu for our dense layers and sigmoid for our output layer and will hence need to define them beforehand. We will also be defining the dRelu function for arrays to use later on."
   ]
  },
  {
   "cell_type": "code",
   "execution_count": 16,
   "id": "193569c2",
   "metadata": {},
   "outputs": [],
   "source": [
    "# Defining Activation Functions\n",
    "\n",
    "from scipy.special import expit\n",
    "\n",
    "def relu(self,n):\n",
    "    return np.maximum(0.0,n)\n",
    "\n",
    "def dRelu(self,n):\n",
    "    n[n<=0] = 0\n",
    "    n[n>0] = 1\n",
    "    return n\n",
    "\n",
    "def sigmoid(self,n):\n",
    "    return expit(n)"
   ]
  },
  {
   "cell_type": "markdown",
   "id": "3f8397b3",
   "metadata": {},
   "source": [
    "To get the best results, a Neural Network tends to focus on optimizing its outputs over several iterations. The measure we will be using to check how close our reusults are to the true values in this case will be the Cross-Entopy Loss. The lower the CE Loss, the better our results and our ANN will look to minimize it."
   ]
  },
  {
   "cell_type": "code",
   "execution_count": 17,
   "id": "c0bbcb15",
   "metadata": {},
   "outputs": [],
   "source": [
    "# Defining Cross-Entropy Loss Function\n",
    "\n",
    "def zero_check(self,n):\n",
    "    return np.maximum(n,0.0000000001)\n",
    "\n",
    "def cross_ent_loss(self,y,yhat):\n",
    "    samples = len(y)\n",
    "    y_inv = 1.0 - y\n",
    "    yhat_inv = 1.0 - y\n",
    "    yhat = self.zero_check(yhat)\n",
    "    yhat_inv = self.zero_check(yhat_inv)\n",
    "    loss = (-1/samples)*(np.multiply(y,np.log(yhat))*np.multiply(y_inv,np.log(yhat_inv)))\n",
    "    return loss"
   ]
  },
  {
   "cell_type": "markdown",
   "id": "0c28d3f7",
   "metadata": {},
   "source": [
    "The process by which the network traverses from the input nodes towards the output node, calculating the values at each layer using the weights and biases is called forward propagation. Defined below is our function for forward propagation across 2 hidden layers."
   ]
  },
  {
   "cell_type": "code",
   "execution_count": 18,
   "id": "ce1dbb00",
   "metadata": {},
   "outputs": [],
   "source": [
    "# Defining function for forward propagation\n",
    "\n",
    "def forward_prop(self):\n",
    "    Z1 = self.X.dot(self.param['w1']) + self.param['b1']\n",
    "    A1 = self.relu(Z1)\n",
    "    Z2 = A1.dot(self.param['w2']) + self.param['b2']\n",
    "    A2 = self.relu(Z2)\n",
    "    Z3 = A2.dot(self.param['w3']) + self.param['b3']\n",
    "    yhat = self.sigmoid(Z3)\n",
    "    loss = self.cross_ent_loss(self.y,yhat)\n",
    "    \n",
    "    self.param['Z1'] = Z1\n",
    "    self.param['A1'] = A1\n",
    "    self.param['Z2'] = Z2\n",
    "    self.param['A2'] = A2\n",
    "    self.param['Z3'] = Z3    \n",
    "    \n",
    "    return yhat, loss"
   ]
  },
  {
   "cell_type": "markdown",
   "id": "43a8eddd",
   "metadata": {},
   "source": [
    "Once we complete one full cycle of forward propagation, our weights and biases need to be updated to reduce our loss function. We find the rate at which our weights and biases change w.r.t our loss function (gradient descent) using some differential calculus and use it to update them. This process is called backward propagation and is defined using the function below."
   ]
  },
  {
   "cell_type": "code",
   "execution_count": 19,
   "id": "429db866",
   "metadata": {},
   "outputs": [],
   "source": [
    "# Defining function for backward propagation\n",
    "\n",
    "def back_prop(self,yhat):\n",
    "    \n",
    "    y_inv = 1.0 - self.y\n",
    "    yhat_inv = 1.0 - yhat\n",
    "    der_yhat = (-1)*(np.divide(self.y,self.zero_check(yhat))) + (np.divide(y_inv,self.zero_check(yhat_inv)))\n",
    "    der_sigmoid = yhat*yhat_inv\n",
    "    der_Z3 = der_yhat*der_sigmoid\n",
    "    der_A2 = der_Z3.dot(self.param['w3'].T)\n",
    "    der_w3 = self.param['A2'].T.dot(der_Z3)\n",
    "    der_b3 = np.sum(der_Z3,axis=0,keepdims=True)\n",
    "    der_Z2 = der_A2*self.dRelu(self.param['Z2'])\n",
    "    der_A1 = der_Z2.dot(self.param['w2'].T)\n",
    "    der_w2 = self.param['A1'].T.dot(der_Z2)\n",
    "    der_b2 = np.sum(der_Z2,axis=0,keepdims=True)\n",
    "    der_Z1 = der_A1*self.dRelu(self.param['Z1'])\n",
    "    der_w1 = self.X.T.dot(der_Z1)\n",
    "    der_b1= np.sum(der_Z1,axis=0,keepdims=True)\n",
    "    \n",
    "    self.param['w1'] = self.param['w1'] - self.learning_rate * der_w1\n",
    "    self.param['w2'] = self.param['w2'] - self.learning_rate * der_w2\n",
    "    self.param['w3'] = self.param['w3'] - self.learning_rate * der_w3\n",
    "    self.param['b1'] = self.param['b1'] - self.learning_rate * der_b1\n",
    "    self.param['b2'] = self.param['b2'] - self.learning_rate * der_b2\n",
    "    self.param['b3'] = self.param['b3'] - self.learning_rate * der_b3"
   ]
  },
  {
   "cell_type": "markdown",
   "id": "68c127c4",
   "metadata": {},
   "source": [
    "We would also need a function to train our neural network after creating it, hence we need to define a \"fit\" function as shown below so that it executes forward and backward propagation for given number of iterations."
   ]
  },
  {
   "cell_type": "code",
   "execution_count": 20,
   "id": "03177898",
   "metadata": {},
   "outputs": [],
   "source": [
    "# Defining Fit function for ANN Class\n",
    "\n",
    "def fit(self,X,y):\n",
    "    self.X = X\n",
    "    self.y = y\n",
    "    self.init_weights()\n",
    "    \n",
    "    for i in range(self.iterations):\n",
    "        yhat, loss = self.forward_prop()\n",
    "        self.back_prop(yhat)\n",
    "        self.loss.append(loss)"
   ]
  },
  {
   "cell_type": "markdown",
   "id": "ace0634e",
   "metadata": {},
   "source": [
    "We will also be defining a \"predict\" function that gives us the corresponding output values for given inputs using the weights and biases determined after training our ANN."
   ]
  },
  {
   "cell_type": "code",
   "execution_count": 21,
   "id": "4ec06ef0",
   "metadata": {},
   "outputs": [],
   "source": [
    "# Defining Predict function for ANN Class\n",
    "\n",
    "def predict(self,X):\n",
    "    Z1 = X.dot(self.param['w1']) + self.param['b1']\n",
    "    A1 = self.relu(Z1)\n",
    "    Z2 = A1.dot(self.param['w2']) + self.param['b2']\n",
    "    A2 = self.relu(Z2)\n",
    "    Z3 = A2.dot(self.param['w3']) + self.param['b3']\n",
    "    y_pred = self.sigmoid(Z2)\n",
    "    return np.round(y_pred)"
   ]
  },
  {
   "cell_type": "markdown",
   "id": "22c15f97",
   "metadata": {},
   "source": [
    "Finally, we will create our complete class by collating our code from the previous cells."
   ]
  },
  {
   "cell_type": "code",
   "execution_count": 22,
   "id": "e5121238",
   "metadata": {},
   "outputs": [],
   "source": [
    "# Compiling Code and Defining the myNeuralNet Class\n",
    "\n",
    "class myNeuralNet():\n",
    "    \n",
    "    def __init__(self, layers = [784,128,128,1], learning_rate = 0.0001, iterations = 100):\n",
    "        self.layers = layers\n",
    "        self.learning_rate = learning_rate\n",
    "        self.iterations = iterations\n",
    "        self.param = {}\n",
    "        self.loss = []\n",
    "        self.X = None\n",
    "        self.y = None\n",
    "        \n",
    "    def init_weights(self):\n",
    "        np.random.seed(1)\n",
    "        self.param['w1'] = np.random.randn(self.layers[0], self.layers[1])\n",
    "        self.param['b1'] = np.random.randn(self.layers[1],)\n",
    "        self.param['w2'] = np.random.randn(self.layers[1], self.layers[2])\n",
    "        self.param['b2'] = np.random.randn(self.layers[2],)\n",
    "        self.param['w3'] = np.random.randn(self.layers[2], self.layers[3])\n",
    "        self.param['b3'] = np.random.randn(self.layers[3],)        \n",
    "    \n",
    "    def relu(self,n):\n",
    "        return np.maximum(0.0,n)\n",
    "    \n",
    "    def dRelu(self,n):\n",
    "        n[n<=0] = 0\n",
    "        n[n>0] = 1\n",
    "        return n\n",
    "\n",
    "    def sigmoid(self,n):\n",
    "        return expit(n)\n",
    "    \n",
    "    def zero_check(self,n):\n",
    "        return np.maximum(n,0.0000000001)\n",
    "\n",
    "    def cross_ent_loss(self,y,yhat):\n",
    "        samples = len(y)\n",
    "        y_inv = 1.0 - y\n",
    "        yhat_inv = 1.0 - y\n",
    "        yhat = self.zero_check(yhat)\n",
    "        yhat_inv = self.zero_check(yhat_inv)\n",
    "        loss = (-1/samples)*(np.multiply(y,np.log(yhat))*np.multiply(y_inv,np.log(yhat_inv)))\n",
    "        return loss\n",
    "    \n",
    "    def forward_prop(self):\n",
    "        Z1 = self.X.dot(self.param['w1']) + self.param['b1']\n",
    "        A1 = self.relu(Z1)\n",
    "        Z2 = A1.dot(self.param['w2']) + self.param['b2']\n",
    "        A2 = self.relu(Z2)\n",
    "        Z3 = A2.dot(self.param['w3']) + self.param['b3']\n",
    "        yhat = self.sigmoid(Z3)\n",
    "        loss = self.cross_ent_loss(self.y,yhat)\n",
    "\n",
    "        self.param['Z1'] = Z1\n",
    "        self.param['A1'] = A1\n",
    "        self.param['Z2'] = Z2\n",
    "        self.param['A2'] = A2\n",
    "        self.param['Z3'] = Z3    \n",
    "\n",
    "        return yhat, loss\n",
    "    \n",
    "    def back_prop(self,yhat):\n",
    "\n",
    "        y_inv = 1.0 - self.y\n",
    "        yhat_inv = 1.0 - yhat\n",
    "        der_yhat = (-1)*(np.divide(self.y,self.zero_check(yhat))) + (np.divide(y_inv,self.zero_check(yhat_inv)))\n",
    "        der_sigmoid = yhat*yhat_inv\n",
    "        der_Z3 = der_yhat*der_sigmoid\n",
    "        der_A2 = der_Z3.dot(self.param['w3'].T)\n",
    "        der_w3 = self.param['A2'].T.dot(der_Z3)\n",
    "        der_b3 = np.sum(der_Z3,axis=0,keepdims=True)\n",
    "        der_Z2 = der_A2*self.dRelu(self.param['Z2'])\n",
    "        der_A1 = der_Z2.dot(self.param['w2'].T)\n",
    "        der_w2 = self.param['A1'].T.dot(der_Z2)\n",
    "        der_b2 = np.sum(der_Z2,axis=0,keepdims=True)\n",
    "        der_Z1 = der_A1*self.dRelu(self.param['Z1'])\n",
    "        der_w1 = self.X.T.dot(der_Z1)\n",
    "        der_b1= np.sum(der_Z1,axis=0,keepdims=True)\n",
    "\n",
    "        self.param['w1'] = self.param['w1'] - self.learning_rate * der_w1\n",
    "        self.param['w2'] = self.param['w2'] - self.learning_rate * der_w2\n",
    "        self.param['w3'] = self.param['w3'] - self.learning_rate * der_w3\n",
    "        self.param['b1'] = self.param['b1'] - self.learning_rate * der_b1\n",
    "        self.param['b2'] = self.param['b2'] - self.learning_rate * der_b2\n",
    "        self.param['b3'] = self.param['b3'] - self.learning_rate * der_b3        \n",
    "    \n",
    "    def fit(self,X,y):\n",
    "        self.X = X\n",
    "        self.y = y\n",
    "        self.init_weights()\n",
    "\n",
    "        for i in range(self.iterations):\n",
    "            yhat, loss = self.forward_prop()\n",
    "            self.back_prop(yhat)\n",
    "            self.loss.append(loss)\n",
    "            \n",
    "    def predict(self,X):\n",
    "        Z1 = X.dot(self.param['w1']) + self.param['b1']\n",
    "        A1 = self.relu(Z1)\n",
    "        Z2 = A1.dot(self.param['w2']) + self.param['b2']\n",
    "        A2 = self.relu(Z2)\n",
    "        Z3 = A2.dot(self.param['w3']) + self.param['b3']\n",
    "        y_pred = self.sigmoid(Z3)\n",
    "        return np.round(y_pred)"
   ]
  },
  {
   "cell_type": "markdown",
   "id": "3fd627f8",
   "metadata": {},
   "source": [
    "Since the Neural Network we have created is very simple and not optimal, we cannot use it on our complete dataset as it would not be very accurate and also take a really long time to train. Instead, we will be testing our ANN on a subset of our complete dataset containing only images of 1s and 0s and find how accurate it is."
   ]
  },
  {
   "cell_type": "code",
   "execution_count": 23,
   "id": "1fb033bf",
   "metadata": {},
   "outputs": [
    {
     "name": "stdout",
     "output_type": "stream",
     "text": [
      "X_train_bin_flat Shape:  (4800, 784) <class 'numpy.ndarray'>\n",
      "X_test_bin_flat Shape:  (800, 784) <class 'numpy.ndarray'>\n",
      "y_train_bin Shape:  (4800, 1) <class 'numpy.ndarray'>\n",
      "y_test_bin Shape:  (800, 1) <class 'numpy.ndarray'>\n"
     ]
    }
   ],
   "source": [
    "# Preprocessing Images for Binary Classification\n",
    "df_train_bin = df_train[df_train[0] <= 1]\n",
    "df_test_bin = df_test[df_test[0] <= 1]\n",
    "\n",
    "X_train_bin = df_train_bin.loc[:,1:]\n",
    "y_train_bin = df_train_bin.loc[:,0]\n",
    "X_test_bin = df_test_bin.loc[:,1:]\n",
    "y_test_bin = df_test_bin.loc[:,0]\n",
    "\n",
    "X_train_bin = np.apply_along_axis(rotate_invert, 1, X_train_bin.values)\n",
    "X_test_bin = np.apply_along_axis(rotate_invert, 1, X_test_bin.values)\n",
    "\n",
    "X_train_bin = X_train_bin/255.\n",
    "X_test_bin = X_test_bin/255.\n",
    "\n",
    "y_train_bin = np.reshape(np.array(y_train_bin),(4800,1))\n",
    "y_test_bin = np.reshape(np.array(y_test_bin),(800,1))\n",
    "\n",
    "X_train_bin_flat = np.reshape(X_train_bin, (4800, 784))\n",
    "X_test_bin_flat = np.reshape(X_test_bin, (800, 784))\n",
    "\n",
    "print('X_train_bin_flat Shape: ',X_train_bin_flat.shape,type(X_train_bin_flat))\n",
    "print('X_test_bin_flat Shape: ',X_test_bin_flat.shape,type(X_test_bin_flat))\n",
    "print('y_train_bin Shape: ',y_train_bin.shape,type(y_train_bin))\n",
    "print('y_test_bin Shape: ',y_test_bin.shape,type(y_test_bin))"
   ]
  },
  {
   "cell_type": "code",
   "execution_count": 24,
   "id": "2d764941",
   "metadata": {},
   "outputs": [],
   "source": [
    "# Fitting ANN Model\n",
    "myNN = myNeuralNet()\n",
    "myNN.fit(X_train_bin_flat,y_train_bin)"
   ]
  },
  {
   "cell_type": "code",
   "execution_count": 25,
   "id": "df9c6da7",
   "metadata": {},
   "outputs": [
    {
     "name": "stdout",
     "output_type": "stream",
     "text": [
      "Training Set Accuracy: 98%\n",
      "Test Set Accuracy: 97%\n"
     ]
    }
   ],
   "source": [
    "# Calculating Accuracy on Training and Test Set\n",
    "y_pred = myNN.predict(X_train_bin_flat)\n",
    "print(\"Training Set Accuracy: {}%\".format(int(sum(y_train_bin == y_pred) / len(y_train_bin) * 100)))\n",
    "\n",
    "y_pred = myNN.predict(X_test_bin_flat)\n",
    "print(\"Test Set Accuracy: {}%\".format(int(sum(y_test_bin == y_pred) / len(y_test_bin) * 100)))"
   ]
  },
  {
   "cell_type": "markdown",
   "id": "5868e39f",
   "metadata": {},
   "source": [
    "We find that our ANN has given us a really good accuracy of ~97% on our test dataset of 1s and 0s. However this would be significantly lower if we were to train it on our entire dataset. We can see some of our predictions visualized below."
   ]
  },
  {
   "cell_type": "code",
   "execution_count": 26,
   "id": "a351c855",
   "metadata": {},
   "outputs": [
    {
     "data": {
      "image/png": "[encoded data removed]",
      "text/plain": [
       "<Figure size 720x360 with 10 Axes>"
      ]
     },
     "metadata": {},
     "output_type": "display_data"
    }
   ],
   "source": [
    "# Visualizing some predictions\n",
    "indices = np.random.choice(range(X_test_bin_flat.shape[0]), 10, replace=False)\n",
    "    \n",
    "X_show = X_test_bin_flat[indices]\n",
    "y_show = y_test_bin[indices]\n",
    "p_show = y_pred[indices]\n",
    "\n",
    "plt.figure(figsize=(10, 5))\n",
    "for i in range(10):\n",
    "    plt.subplot(2, 5, i + 1)\n",
    "    plt.imshow(X_show[i].reshape(28,28),cmap='binary')\n",
    "    plt.xticks([])\n",
    "    plt.yticks([])\n",
    "    col = 'green' if int(y_show[i]) == int(p_show[i]) else 'red'\n",
    "    plt.xlabel(int(p_show[i]), color=col)\n",
    "plt.show()"
   ]
  },
  {
   "cell_type": "markdown",
   "id": "b8ea068d",
   "metadata": {},
   "source": [
    "### 3. Artificial Neural Network Approach\n",
    "The first model we will be using through Keras with Tensorflow backend is a simple ANN with only Dense layers and 2 hidden layers. ANNs can be  used for classification of simple images but tend to lose accuracy when there is shift in position of pixels or when we are trying to identify particular features.\n",
    "\n",
    "We will be converting our images from 28x28 to 784 flattened pixels format so it can be fed to the ANN."
   ]
  },
  {
   "cell_type": "code",
   "execution_count": 27,
   "id": "208fe1bf",
   "metadata": {},
   "outputs": [
    {
     "name": "stdout",
     "output_type": "stream",
     "text": [
      "X_train_flat Shape:  (112800, 784) <class 'numpy.ndarray'>\n",
      "X_test_flat Shape:  (18800, 784) <class 'numpy.ndarray'>\n"
     ]
    }
   ],
   "source": [
    "# Flattening Images\n",
    "X_train_flat = np.reshape(X_train, (112800, 784))\n",
    "X_test_flat = np.reshape(X_test, (18800, 784))\n",
    "print('X_train_flat Shape: ',X_train_flat.shape,type(X_train_flat))\n",
    "print('X_test_flat Shape: ',X_test_flat.shape,type(X_test_flat))"
   ]
  },
  {
   "cell_type": "code",
   "execution_count": 28,
   "id": "9d49011e",
   "metadata": {},
   "outputs": [],
   "source": [
    "# Building ANN\n",
    "from tensorflow.keras.models import Sequential\n",
    "from tensorflow.keras.layers import Dense\n",
    "\n",
    "ann = Sequential([\n",
    "    Dense(128, activation = 'relu', input_shape = (784,)),\n",
    "    Dense(128, activation = 'relu'),\n",
    "    Dense(128, activation = 'relu'),\n",
    "    Dense(47, activation = 'softmax')\n",
    "])"
   ]
  },
  {
   "cell_type": "code",
   "execution_count": 29,
   "id": "cc223488",
   "metadata": {},
   "outputs": [
    {
     "name": "stdout",
     "output_type": "stream",
     "text": [
      "Model: \"sequential\"\n",
      "_________________________________________________________________\n",
      "Layer (type)                 Output Shape              Param #   \n",
      "=================================================================\n",
      "dense (Dense)                (None, 128)               100480    \n",
      "_________________________________________________________________\n",
      "dense_1 (Dense)              (None, 128)               16512     \n",
      "_________________________________________________________________\n",
      "dense_2 (Dense)              (None, 128)               16512     \n",
      "_________________________________________________________________\n",
      "dense_3 (Dense)              (None, 47)                6063      \n",
      "=================================================================\n",
      "Total params: 139,567\n",
      "Trainable params: 139,567\n",
      "Non-trainable params: 0\n",
      "_________________________________________________________________\n"
     ]
    }
   ],
   "source": [
    "# Compiling ANN\n",
    "ann.compile(\n",
    "    optimizer = 'adam',\n",
    "    loss = 'categorical_crossentropy',\n",
    "    metrics = ['accuracy']\n",
    ")\n",
    "\n",
    "ann.summary()"
   ]
  },
  {
   "cell_type": "code",
   "execution_count": 30,
   "id": "5f016dfe",
   "metadata": {},
   "outputs": [
    {
     "name": "stdout",
     "output_type": "stream",
     "text": [
      "Epoch 1/10\n",
      "3525/3525 [==============================] - 11s 3ms/step - loss: 0.9368 - accuracy: 0.7147 - val_loss: 0.6801 - val_accuracy: 0.7847\n",
      "Epoch 2/10\n",
      "3525/3525 [==============================] - 11s 3ms/step - loss: 0.5832 - accuracy: 0.8059 - val_loss: 0.5839 - val_accuracy: 0.8085\n",
      "Epoch 3/10\n",
      "3525/3525 [==============================] - 10s 3ms/step - loss: 0.5055 - accuracy: 0.8265 - val_loss: 0.5338 - val_accuracy: 0.8259\n",
      "Epoch 4/10\n",
      "3525/3525 [==============================] - 11s 3ms/step - loss: 0.4587 - accuracy: 0.8403 - val_loss: 0.5306 - val_accuracy: 0.8262\n",
      "Epoch 5/10\n",
      "3525/3525 [==============================] - 10s 3ms/step - loss: 0.4280 - accuracy: 0.8484 - val_loss: 0.5467 - val_accuracy: 0.8243\n",
      "Epoch 6/10\n",
      "3525/3525 [==============================] - 10s 3ms/step - loss: 0.4015 - accuracy: 0.8554 - val_loss: 0.5385 - val_accuracy: 0.8252\n",
      "CPU times: user 2min 6s, sys: 12.2 s, total: 2min 18s\n",
      "Wall time: 1min 5s\n"
     ]
    }
   ],
   "source": [
    "%%time\n",
    "# Training ANN\n",
    "\n",
    "h1 = ann.fit(\n",
    "    X_train_flat, y_train,\n",
    "    validation_data=(X_test_flat, y_test),\n",
    "    epochs=10,\n",
    "    callbacks=[\n",
    "        tf.keras.callbacks.EarlyStopping(monitor='val_accuracy', patience=2),\n",
    "        tf.keras.callbacks.ModelCheckpoint('models_ann/ann_best_model.h5', save_best_only=True,\n",
    "                                          save_weights_only=False, monitor='val_accuracy')\n",
    "    ]\n",
    ")"
   ]
  },
  {
   "cell_type": "code",
   "execution_count": 31,
   "id": "15784733",
   "metadata": {},
   "outputs": [],
   "source": [
    "acc = h1.history['accuracy']\n",
    "val_acc = h1.history['val_accuracy']\n",
    "loss = h1.history['loss']\n",
    "val_loss = h1.history['val_loss']\n",
    "epochs = range(1,len(acc)+1)"
   ]
  },
  {
   "cell_type": "code",
   "execution_count": 32,
   "id": "26a1fb81",
   "metadata": {},
   "outputs": [
    {
     "data": {
      "image/png": "[encoded data removed]",
      "text/plain": [
       "<Figure size 432x288 with 1 Axes>"
      ]
     },
     "metadata": {
      "needs_background": "light"
     },
     "output_type": "display_data"
    }
   ],
   "source": [
    "# Plotting Accuracy Curve\n",
    "plt.plot(epochs, acc, 'b')\n",
    "plt.plot(epochs, val_acc, 'r')\n",
    "plt.title('Model Accuracy')\n",
    "plt.ylabel('Accuracy')\n",
    "plt.xlabel('Epoch')\n",
    "plt.legend(['Train', 'Val'], loc='upper left')\n",
    "plt.show()"
   ]
  },
  {
   "cell_type": "code",
   "execution_count": 33,
   "id": "011b8e96",
   "metadata": {},
   "outputs": [
    {
     "data": {
      "image/png": "[encoded data removed]",
      "text/plain": [
       "<Figure size 432x288 with 1 Axes>"
      ]
     },
     "metadata": {
      "needs_background": "light"
     },
     "output_type": "display_data"
    }
   ],
   "source": [
    "# Plotting Loss Curve\n",
    "plt.plot(epochs, loss, 'b')\n",
    "plt.plot(epochs, val_loss, 'r')\n",
    "plt.title('Model Loss')\n",
    "plt.ylabel('Loss')\n",
    "plt.xlabel('Epoch')\n",
    "plt.legend(['Train', 'Val'], loc='upper left')\n",
    "plt.show()"
   ]
  },
  {
   "cell_type": "code",
   "execution_count": 34,
   "id": "969fbff6",
   "metadata": {},
   "outputs": [
    {
     "name": "stdout",
     "output_type": "stream",
     "text": [
      "588/588 [==============================] - 1s 2ms/step - loss: 0.5306 - accuracy: 0.8262\n",
      "ANN Test Set Accuracy:  82.62234330177307 %\n"
     ]
    }
   ],
   "source": [
    "# Finding Test Set Accuracy of Best Model\n",
    "model = tf.keras.models.load_model('models_ann/ann_best_model.h5')\n",
    "loss, accuracy = model.evaluate(X_test_flat, y_test)\n",
    "\n",
    "print('ANN Test Set Accuracy: ', accuracy * 100,'%')"
   ]
  },
  {
   "cell_type": "markdown",
   "id": "beb26dc8",
   "metadata": {},
   "source": [
    "After training over 10 epochs, we find that the ANN model with the best results on test data gave us an accuracy of **~83%.**"
   ]
  },
  {
   "cell_type": "markdown",
   "id": "cc3c3089",
   "metadata": {},
   "source": [
    "### 4. Convolutional Neural Network Aproach\n",
    "The next approach we will be using is a CNN with two sets of convolution and max-pooling layers followed by a flattening layer connected to a simple ANN. CNNs provide an edge over simple ANNs for image recognition as they are more suited to identifying features and their performance is not affected by shift in location of these features.\n",
    "\n",
    "To convert the training and test datasets into suitable format for the CNN, we will be changing their shape to 28x28x1."
   ]
  },
  {
   "cell_type": "code",
   "execution_count": 35,
   "id": "f56e6b4a",
   "metadata": {},
   "outputs": [
    {
     "name": "stdout",
     "output_type": "stream",
     "text": [
      "X_train_cnn Shape:  (112800, 28, 28, 1) <class 'numpy.ndarray'>\n",
      "X_test_cnn Shape:  (18800, 28, 28, 1) <class 'numpy.ndarray'>\n"
     ]
    }
   ],
   "source": [
    "# Changing Input Shape\n",
    "X_train_cnn = np.reshape(X_train, (112800, 28, 28, 1))\n",
    "X_test_cnn = np.reshape(X_test, (18800, 28, 28, 1))\n",
    "print('X_train_cnn Shape: ',X_train_cnn.shape,type(X_train_cnn))\n",
    "print('X_test_cnn Shape: ',X_test_cnn.shape,type(X_test_cnn))"
   ]
  },
  {
   "cell_type": "code",
   "execution_count": 36,
   "id": "5f15278a",
   "metadata": {},
   "outputs": [],
   "source": [
    "# Building CNN\n",
    "from tensorflow.keras.layers import Conv2D, MaxPooling2D, Flatten\n",
    "\n",
    "cnn = Sequential([\n",
    "    Conv2D(filters=32, kernel_size=(3, 3), activation='relu', input_shape=(28, 28, 1)),\n",
    "    MaxPooling2D((2, 2)),\n",
    "    \n",
    "    Conv2D(filters=64, kernel_size=(3, 3), activation='relu'),\n",
    "    MaxPooling2D((2, 2)),\n",
    "    \n",
    "    Flatten(),\n",
    "    Dense(64, activation='relu'),\n",
    "    Dense(47, activation='softmax')\n",
    "])"
   ]
  },
  {
   "cell_type": "code",
   "execution_count": 37,
   "id": "1d261621",
   "metadata": {},
   "outputs": [
    {
     "name": "stdout",
     "output_type": "stream",
     "text": [
      "Model: \"sequential_1\"\n",
      "_________________________________________________________________\n",
      "Layer (type)                 Output Shape              Param #   \n",
      "=================================================================\n",
      "conv2d (Conv2D)              (None, 26, 26, 32)        320       \n",
      "_________________________________________________________________\n",
      "max_pooling2d (MaxPooling2D) (None, 13, 13, 32)        0         \n",
      "_________________________________________________________________\n",
      "conv2d_1 (Conv2D)            (None, 11, 11, 64)        18496     \n",
      "_________________________________________________________________\n",
      "max_pooling2d_1 (MaxPooling2 (None, 5, 5, 64)          0         \n",
      "_________________________________________________________________\n",
      "flatten (Flatten)            (None, 1600)              0         \n",
      "_________________________________________________________________\n",
      "dense_4 (Dense)              (None, 64)                102464    \n",
      "_________________________________________________________________\n",
      "dense_5 (Dense)              (None, 47)                3055      \n",
      "=================================================================\n",
      "Total params: 124,335\n",
      "Trainable params: 124,335\n",
      "Non-trainable params: 0\n",
      "_________________________________________________________________\n"
     ]
    }
   ],
   "source": [
    "# Compiling CNN\n",
    "cnn.compile(\n",
    "    optimizer = 'adam',\n",
    "    loss = 'categorical_crossentropy',\n",
    "    metrics = ['accuracy']\n",
    ")\n",
    "\n",
    "cnn.summary()"
   ]
  },
  {
   "cell_type": "code",
   "execution_count": 38,
   "id": "5b394fe9",
   "metadata": {},
   "outputs": [
    {
     "name": "stdout",
     "output_type": "stream",
     "text": [
      "Epoch 1/10\n",
      "3525/3525 [==============================] - 205s 58ms/step - loss: 0.7382 - accuracy: 0.7700 - val_loss: 0.5140 - val_accuracy: 0.8296\n",
      "Epoch 2/10\n",
      "3525/3525 [==============================] - 211s 60ms/step - loss: 0.4295 - accuracy: 0.8521 - val_loss: 0.4380 - val_accuracy: 0.8560\n",
      "Epoch 3/10\n",
      "3525/3525 [==============================] - 95s 27ms/step - loss: 0.3698 - accuracy: 0.8695 - val_loss: 0.4080 - val_accuracy: 0.8607\n",
      "Epoch 4/10\n",
      "3525/3525 [==============================] - 95s 27ms/step - loss: 0.3349 - accuracy: 0.8788 - val_loss: 0.3902 - val_accuracy: 0.8695\n",
      "Epoch 5/10\n",
      "3525/3525 [==============================] - 94s 27ms/step - loss: 0.3104 - accuracy: 0.8863 - val_loss: 0.3820 - val_accuracy: 0.8710\n",
      "Epoch 6/10\n",
      "3525/3525 [==============================] - 95s 27ms/step - loss: 0.2891 - accuracy: 0.8921 - val_loss: 0.3906 - val_accuracy: 0.8654\n",
      "Epoch 7/10\n",
      "3525/3525 [==============================] - 95s 27ms/step - loss: 0.2725 - accuracy: 0.8965 - val_loss: 0.3858 - val_accuracy: 0.8724\n",
      "Epoch 8/10\n",
      "3525/3525 [==============================] - 795s 226ms/step - loss: 0.2565 - accuracy: 0.9012 - val_loss: 0.3955 - val_accuracy: 0.8713\n",
      "Epoch 9/10\n",
      "3525/3525 [==============================] - 108s 31ms/step - loss: 0.2446 - accuracy: 0.9049 - val_loss: 0.3958 - val_accuracy: 0.8746\n",
      "Epoch 10/10\n",
      "3525/3525 [==============================] - 97s 27ms/step - loss: 0.2316 - accuracy: 0.9083 - val_loss: 0.4049 - val_accuracy: 0.8676\n",
      "CPU times: user 48min 31s, sys: 4min 31s, total: 53min 2s\n",
      "Wall time: 31min 30s\n"
     ]
    }
   ],
   "source": [
    "%%time\n",
    "# Training CNN\n",
    "\n",
    "h2 = cnn.fit(\n",
    "    X_train_cnn, y_train,\n",
    "    validation_data=(X_test_cnn, y_test),\n",
    "    epochs=10,\n",
    "    callbacks=[\n",
    "        tf.keras.callbacks.EarlyStopping(monitor='val_accuracy', patience=2),\n",
    "        tf.keras.callbacks.ModelCheckpoint('models_cnn/cnn_best_model.h5', save_best_only=True,\n",
    "                                          save_weights_only=False, monitor='val_accuracy')\n",
    "    ]\n",
    ")"
   ]
  },
  {
   "cell_type": "code",
   "execution_count": 39,
   "id": "e7ed8fba",
   "metadata": {},
   "outputs": [],
   "source": [
    "acc = h2.history['accuracy']\n",
    "val_acc = h2.history['val_accuracy']\n",
    "loss = h2.history['loss']\n",
    "val_loss = h2.history['val_loss']\n",
    "epochs = range(1,len(acc)+1)"
   ]
  },
  {
   "cell_type": "code",
   "execution_count": 40,
   "id": "92c7866f",
   "metadata": {},
   "outputs": [
    {
     "data": {
      "image/png": "[encoded data removed]",
      "text/plain": [
       "<Figure size 432x288 with 1 Axes>"
      ]
     },
     "metadata": {
      "needs_background": "light"
     },
     "output_type": "display_data"
    }
   ],
   "source": [
    "# Plotting Accuracy Curve\n",
    "plt.plot(epochs, acc, 'b')\n",
    "plt.plot(epochs, val_acc, 'r')\n",
    "plt.title('Model Accuracy')\n",
    "plt.ylabel('Accuracy')\n",
    "plt.xlabel('Epoch')\n",
    "plt.legend(['Train', 'Val'], loc='upper left')\n",
    "plt.show()"
   ]
  },
  {
   "cell_type": "code",
   "execution_count": 41,
   "id": "e7957323",
   "metadata": {},
   "outputs": [
    {
     "data": {
      "image/png": "[encoded data removed]",
      "text/plain": [
       "<Figure size 432x288 with 1 Axes>"
      ]
     },
     "metadata": {
      "needs_background": "light"
     },
     "output_type": "display_data"
    }
   ],
   "source": [
    "# Plotting Loss Curve\n",
    "plt.plot(epochs, loss, 'b')\n",
    "plt.plot(epochs, val_loss, 'r')\n",
    "plt.title('Model Loss')\n",
    "plt.ylabel('Loss')\n",
    "plt.xlabel('Epoch')\n",
    "plt.legend(['Train', 'Val'], loc='upper left')\n",
    "plt.show()"
   ]
  },
  {
   "cell_type": "code",
   "execution_count": 42,
   "id": "fab330c2",
   "metadata": {},
   "outputs": [
    {
     "name": "stdout",
     "output_type": "stream",
     "text": [
      "588/588 [==============================] - 4s 7ms/step - loss: 0.3958 - accuracy: 0.8746\n",
      "CNN Test Set Accuracy:  87.46276497840881 %\n"
     ]
    }
   ],
   "source": [
    "# Finding Test Set Accuracy of Best Model\n",
    "model = tf.keras.models.load_model('models_cnn/cnn_best_model.h5')\n",
    "loss, accuracy = model.evaluate(X_test_cnn, y_test)\n",
    "\n",
    "print('CNN Test Set Accuracy: ', accuracy * 100,'%')"
   ]
  },
  {
   "cell_type": "markdown",
   "id": "5c050c88",
   "metadata": {},
   "source": [
    "Our best CNN model has an accuracy of **~87%**. This is slightly better than our best ANN model. Since the images we are working with are quite uniform and simple, we see a smaller difference between ANN and CNN performance. However, if the images were more complex with larger number of features, the CNN wouldve shown much better performance compared to the ANN."
   ]
  },
  {
   "cell_type": "markdown",
   "id": "aba8c557",
   "metadata": {},
   "source": [
    "### 5. Deployment of Final Model and Conclusion"
   ]
  },
  {
   "cell_type": "code",
   "execution_count": 43,
   "id": "a15e8ec2",
   "metadata": {},
   "outputs": [],
   "source": [
    "# Loading Best Model\n",
    "final_model = tf.keras.models.load_model('models_cnn/cnn_best_model.h5')\n",
    "\n",
    "preds = final_model.predict(X_test_cnn)"
   ]
  },
  {
   "cell_type": "code",
   "execution_count": 44,
   "id": "829a48f2",
   "metadata": {},
   "outputs": [
    {
     "data": {
      "image/png": "[encoded data removed]",
      "text/plain": [
       "<Figure size 720x360 with 10 Axes>"
      ]
     },
     "metadata": {},
     "output_type": "display_data"
    }
   ],
   "source": [
    "# Visualizing Model Predictions\n",
    "show_random_examples(X_test_cnn, y_test, preds)"
   ]
  },
  {
   "cell_type": "code",
   "execution_count": 45,
   "id": "708a7e73",
   "metadata": {},
   "outputs": [
    {
     "name": "stdout",
     "output_type": "stream",
     "text": [
      "588/588 [==============================] - 4s 8ms/step - loss: 0.3958 - accuracy: 0.8746\n",
      "Final Model Accuracy: 87.46276497840881 %\n",
      "Final Model Loss: 0.3957836627960205\n"
     ]
    }
   ],
   "source": [
    "# Displaying Accuracy and Loss of Final Model\n",
    "loss, accuracy = model.evaluate(X_test_cnn, y_test)\n",
    "print('Final Model Accuracy:',accuracy*100,'%')\n",
    "print('Final Model Loss:',loss)"
   ]
  },
  {
   "cell_type": "markdown",
   "id": "7607d34a",
   "metadata": {},
   "source": [
    "To find out where our model is making its mistakes, we'll be creating a confusion matrix."
   ]
  },
  {
   "cell_type": "code",
   "execution_count": 46,
   "id": "faa67879",
   "metadata": {},
   "outputs": [
    {
     "data": {
      "text/plain": [
       "<tf.Tensor: shape=(47, 47), dtype=int32, numpy=\n",
       "array([[302,   0,   0, ...,   0,   0,   0],\n",
       "       [  0, 280,   1, ...,   0,   0,   0],\n",
       "       [  0,   0, 374, ...,   0,   0,   0],\n",
       "       ...,\n",
       "       [  0,   0,   2, ..., 231,   0,   0],\n",
       "       [  0,   0,   0, ...,   0, 377,   0],\n",
       "       [  0,   2,   0, ...,   0,   4, 355]], dtype=int32)>"
      ]
     },
     "execution_count": 46,
     "metadata": {},
     "output_type": "execute_result"
    }
   ],
   "source": [
    "# Obtaining Confusion Matrix\n",
    "y_test_labels = [np.argmax(i) for i in y_test]\n",
    "y_pred_labels = [np.argmax(i) for i in preds]\n",
    "\n",
    "cm = tf.math.confusion_matrix(labels=y_test_labels,predictions=y_pred_labels)\n",
    "cm"
   ]
  },
  {
   "cell_type": "code",
   "execution_count": 47,
   "id": "02277a83",
   "metadata": {},
   "outputs": [
    {
     "data": {
      "text/plain": [
       "Text(204.0, 0.5, 'Truth')"
      ]
     },
     "execution_count": 47,
     "metadata": {},
     "output_type": "execute_result"
    },
    {
     "data": {
      "image/png": "[encoded data removed]",
      "text/plain": [
       "<Figure size 1800x1440 with 2 Axes>"
      ]
     },
     "metadata": {
      "needs_background": "light"
     },
     "output_type": "display_data"
    }
   ],
   "source": [
    "# Visualizing Confusion Matrix\n",
    "plt.figure(figsize = (25,20))\n",
    "sns.heatmap(cm, annot=True, fmt='d')\n",
    "plt.xticks([i+0.5 for i in range(0,47)],[label_mapping[i] for i in range(0,47)])\n",
    "plt.yticks([i+0.5 for i in range(0,47)],[label_mapping[i] for i in range(0,47)])\n",
    "plt.xlabel('Predicted')\n",
    "plt.ylabel('Truth')"
   ]
  },
  {
   "cell_type": "markdown",
   "id": "f28fa743",
   "metadata": {},
   "source": [
    "Through the confusion matrix, we can see the areas where our model was mis-classifying images. Some of these were expected, such as O and 0, 9 and q, F and f. We also see some other mistakes like 1 and L, 9 and g, 6 and b. These would be areas where humans would also make errors.\n",
    "\n",
    "In the final part of our project we will be using our trained model to try and predict characters that I hand-wrote myself. We will be using the Python Imaging Library (PIL) to read the images and convert them to MNIST format. First they need to be converted to size of 28x28 pixels. Since the images are of black characters against white background, we can convert them to white characters against black backgrounds by inverting them after converting them to grayscale."
   ]
  },
  {
   "cell_type": "code",
   "execution_count": 48,
   "id": "5a7c8a50",
   "metadata": {},
   "outputs": [
    {
     "data": {
      "text/plain": [
       "(10, 28, 28)"
      ]
     },
     "execution_count": 48,
     "metadata": {},
     "output_type": "execute_result"
    }
   ],
   "source": [
    "# Loading and Pre-processing Images\n",
    "from PIL import Image, ImageOps\n",
    "\n",
    "hand_images = np.zeros(shape=(10,28,28))\n",
    "\n",
    "for i in range(0,10):\n",
    "    hand = Image.open(\"Images/Image\"+str(i+1)+\".png\")\n",
    "    hand = hand.resize((28,28))\n",
    "    hand = ImageOps.grayscale(hand)\n",
    "    hand = ImageOps.invert(hand)\n",
    "    hand_images[i] = np.array(hand)\n",
    "\n",
    "hand_images.shape"
   ]
  },
  {
   "cell_type": "code",
   "execution_count": 49,
   "id": "bdb07b76",
   "metadata": {},
   "outputs": [],
   "source": [
    "# Reshaping Images\n",
    "hand_images = np.reshape(hand_images, (10,28,28,1))\n",
    "pred_hand = final_model.predict(hand_images)"
   ]
  },
  {
   "cell_type": "code",
   "execution_count": 50,
   "id": "1f6a851e",
   "metadata": {},
   "outputs": [],
   "source": [
    "# Adding True Labels for Images\n",
    "hand_labels = [10,13,27,15,3,2,5,45,39,42]\n",
    "hand_labels = to_categorical(hand_labels)"
   ]
  },
  {
   "cell_type": "code",
   "execution_count": 51,
   "id": "b6b3ac0a",
   "metadata": {},
   "outputs": [
    {
     "data": {
      "image/png": "[encoded data removed]",
      "text/plain": [
       "<Figure size 720x360 with 10 Axes>"
      ]
     },
     "metadata": {},
     "output_type": "display_data"
    }
   ],
   "source": [
    "# Visualizing the Images and the Predictions\n",
    "show_random_examples(hand_images,hand_labels,pred_hand)"
   ]
  },
  {
   "cell_type": "markdown",
   "id": "88a802fd",
   "metadata": {},
   "source": [
    "Of the 10 images loaded, our model correctly predicted 7 of them.\n",
    "\n",
    "Through this project we successfully created our own ANN from scratch and used it for a simple classification problem. We then used Keras with Tensorflow as a backend to build an ANN and CNN model to classify simple images and also compared their performance. However, the most exciting part of this project for me was using the model I built to recognise my own hand-writing. Turns out my handwriting isn't so illegible after all! This project was another effort of mine to use Data Science and Machine Learning to solve problems I see around me and has helped me understand new concepts that I can use to solve more complex problems down the line."
   ]
  },
  {
   "cell_type": "code",
   "execution_count": null,
   "id": "46f83fd2",
   "metadata": {},
   "outputs": [],
   "source": []
  }
 ],
 "metadata": {
  "kernelspec": {
   "display_name": "Python 3",
   "language": "python",
   "name": "python3"
  },
  "language_info": {
   "codemirror_mode": {
    "name": "ipython",
    "version": 3
   },
   "file_extension": ".py",
   "mimetype": "text/x-python",
   "name": "python",
   "nbconvert_exporter": "python",
   "pygments_lexer": "ipython3",
   "version": "3.8.8"
  }
 },
 "nbformat": 4,
 "nbformat_minor": 5
}
